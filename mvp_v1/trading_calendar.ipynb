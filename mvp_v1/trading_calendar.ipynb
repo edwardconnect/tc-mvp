{
 "cells": [
  {
   "cell_type": "code",
   "execution_count": 158,
   "id": "f9bdfb9a",
   "metadata": {},
   "outputs": [],
   "source": [
    "from workalendar.europe import *\n",
    "import requests\n",
    "from datetime import datetime, timedelta\n",
    "import json\n",
    "import itertools\n"
   ]
  },
  {
   "cell_type": "code",
   "execution_count": 160,
   "id": "afd620f6",
   "metadata": {},
   "outputs": [],
   "source": [
    "calendarific_api_key = \"2a7fb01b189f3d6735a2ab8d797b7a12dcba03d9\"\n",
    "\n",
    "def get_public_holidays_by_country(country_code):\n",
    "    current_year = datetime.now().year\n",
    "    current_year_str = [current_year - 1, current_year, current_year + 1]\n",
    "    public_holidays = []\n",
    "\n",
    "    try:\n",
    "        for year in current_year_str:\n",
    "            url = f\"https://calendarific.com/api/v2/holidays?&api_key={calendarific_api_key}&country={country_code}&year={year}&type=national\"\n",
    "            res = requests.get(url)\n",
    "            if (res.status_code == 200):\n",
    "                public_holidays += [{'date': holiday['date']['datetime'], 'country': holiday['country']['id']} for holiday in res.json()['response']['holidays']]\n",
    "            else:\n",
    "                raise Exception(res.reason)\n",
    "    except Exception as error:\n",
    "        print(error)\n",
    "\n",
    "    return public_holidays"
   ]
  },
  {
   "cell_type": "code",
   "execution_count": 148,
   "id": "87df96b9",
   "metadata": {},
   "outputs": [],
   "source": [
    "is_bank_holiday = lambda date, public_holidays: any(datetime(**holiday['date']).date() == date.date() for holiday in public_holidays)\n",
    "\n",
    "def is_business_day(date, holidays): \n",
    "    if date.weekday() >= 5:\n",
    "        return False\n",
    "    for holiday in holidays:\n",
    "        if date.date() == datetime(**holiday['date']).date():\n",
    "            return False\n",
    "    return True\n",
    "\n",
    "def find_business_date(date, public_holidays, days_before):\n",
    "    count = 0\n",
    "    while count < days_before:\n",
    "        date -= timedelta(days=1)\n",
    "        if is_business_day(date, public_holidays):\n",
    "            count += 1\n",
    "\n",
    "    return date\n",
    "\n",
    "def find_common_business_date(event_cut_off_date, global_holidays):\n",
    "    print(is_business_day(event_cut_off_date, global_holidays))\n",
    "    while True:\n",
    "        if (is_business_day(event_cut_off_date, global_holidays)):\n",
    "            return event_cut_off_date\n",
    "        event_cut_off_date -= timedelta(days=1)\n",
    "\n",
    "def find_valid_cut_off_date(cut_off_date, days_before, fund_origin_country, countries_involved):\n",
    "    country_holidays_map = {}\n",
    "    all_countries = [fund_origin_country] + countries_involved\n",
    "\n",
    "    for country_code in all_countries:\n",
    "        country_holidays_map[country_code] = get_public_holidays_by_country(country_code)\n",
    "    print(country_holidays_map)\n",
    "    print([country_holidays_map[it] for it in [fund_origin_country] + countries_involved])\n",
    "    countries_involved_holidays = list(itertools.chain(*[country_holidays_map[it] for it in all_countries]))\n",
    "\n",
    "    fund_cut_off_date = find_business_date(cut_off_date, country_holidays_map[fund_origin_country], days_before)\n",
    "    fund_common_cut_off_date = find_common_business_date(fund_cut_off_date, countries_involved_holidays)\n",
    "    return fund_common_cut_off_date"
   ]
  },
  {
   "cell_type": "code",
   "execution_count": 161,
   "id": "bfb4acc2",
   "metadata": {},
   "outputs": [
    {
     "name": "stdout",
     "output_type": "stream",
     "text": [
      "{'HK': [{'date': {'year': 2022, 'month': 1, 'day': 1}, 'country': 'hk'}, {'date': {'year': 2022, 'month': 2, 'day': 1}, 'country': 'hk'}, {'date': {'year': 2022, 'month': 2, 'day': 2}, 'country': 'hk'}, {'date': {'year': 2022, 'month': 2, 'day': 3}, 'country': 'hk'}, {'date': {'year': 2022, 'month': 4, 'day': 5}, 'country': 'hk'}, {'date': {'year': 2022, 'month': 4, 'day': 15}, 'country': 'hk'}, {'date': {'year': 2022, 'month': 4, 'day': 16}, 'country': 'hk'}, {'date': {'year': 2022, 'month': 4, 'day': 18}, 'country': 'hk'}, {'date': {'year': 2022, 'month': 5, 'day': 1}, 'country': 'hk'}, {'date': {'year': 2022, 'month': 5, 'day': 2}, 'country': 'hk'}, {'date': {'year': 2022, 'month': 5, 'day': 8}, 'country': 'hk'}, {'date': {'year': 2022, 'month': 5, 'day': 9}, 'country': 'hk'}, {'date': {'year': 2022, 'month': 6, 'day': 3}, 'country': 'hk'}, {'date': {'year': 2022, 'month': 7, 'day': 1}, 'country': 'hk'}, {'date': {'year': 2022, 'month': 9, 'day': 12}, 'country': 'hk'}, {'date': {'year': 2022, 'month': 10, 'day': 1}, 'country': 'hk'}, {'date': {'year': 2022, 'month': 10, 'day': 4}, 'country': 'hk'}, {'date': {'year': 2022, 'month': 12, 'day': 26}, 'country': 'hk'}, {'date': {'year': 2022, 'month': 12, 'day': 27}, 'country': 'hk'}, {'date': {'year': 2023, 'month': 1, 'day': 1}, 'country': 'hk'}, {'date': {'year': 2023, 'month': 1, 'day': 2}, 'country': 'hk'}, {'date': {'year': 2023, 'month': 1, 'day': 22}, 'country': 'hk'}, {'date': {'year': 2023, 'month': 1, 'day': 23}, 'country': 'hk'}, {'date': {'year': 2023, 'month': 1, 'day': 24}, 'country': 'hk'}, {'date': {'year': 2023, 'month': 1, 'day': 25}, 'country': 'hk'}, {'date': {'year': 2023, 'month': 4, 'day': 5}, 'country': 'hk'}, {'date': {'year': 2023, 'month': 4, 'day': 7}, 'country': 'hk'}, {'date': {'year': 2023, 'month': 4, 'day': 8}, 'country': 'hk'}, {'date': {'year': 2023, 'month': 4, 'day': 10}, 'country': 'hk'}, {'date': {'year': 2023, 'month': 5, 'day': 1}, 'country': 'hk'}, {'date': {'year': 2023, 'month': 5, 'day': 26}, 'country': 'hk'}, {'date': {'year': 2023, 'month': 6, 'day': 22}, 'country': 'hk'}, {'date': {'year': 2023, 'month': 7, 'day': 1}, 'country': 'hk'}, {'date': {'year': 2023, 'month': 9, 'day': 30}, 'country': 'hk'}, {'date': {'year': 2023, 'month': 10, 'day': 1}, 'country': 'hk'}, {'date': {'year': 2023, 'month': 10, 'day': 2}, 'country': 'hk'}, {'date': {'year': 2023, 'month': 10, 'day': 23}, 'country': 'hk'}, {'date': {'year': 2023, 'month': 12, 'day': 25}, 'country': 'hk'}, {'date': {'year': 2023, 'month': 12, 'day': 26}, 'country': 'hk'}, {'date': {'year': 2024, 'month': 1, 'day': 1}, 'country': 'hk'}, {'date': {'year': 2024, 'month': 2, 'day': 10}, 'country': 'hk'}, {'date': {'year': 2024, 'month': 2, 'day': 12}, 'country': 'hk'}, {'date': {'year': 2024, 'month': 2, 'day': 13}, 'country': 'hk'}, {'date': {'year': 2024, 'month': 3, 'day': 29}, 'country': 'hk'}, {'date': {'year': 2024, 'month': 3, 'day': 30}, 'country': 'hk'}, {'date': {'year': 2024, 'month': 4, 'day': 1}, 'country': 'hk'}, {'date': {'year': 2024, 'month': 4, 'day': 4}, 'country': 'hk'}, {'date': {'year': 2024, 'month': 5, 'day': 1}, 'country': 'hk'}, {'date': {'year': 2024, 'month': 5, 'day': 15}, 'country': 'hk'}, {'date': {'year': 2024, 'month': 6, 'day': 10}, 'country': 'hk'}, {'date': {'year': 2024, 'month': 7, 'day': 1}, 'country': 'hk'}, {'date': {'year': 2024, 'month': 9, 'day': 18}, 'country': 'hk'}, {'date': {'year': 2024, 'month': 10, 'day': 1}, 'country': 'hk'}, {'date': {'year': 2024, 'month': 10, 'day': 11}, 'country': 'hk'}, {'date': {'year': 2024, 'month': 12, 'day': 25}, 'country': 'hk'}, {'date': {'year': 2024, 'month': 12, 'day': 26}, 'country': 'hk'}], 'US': [{'date': {'year': 2022, 'month': 1, 'day': 1}, 'country': 'us'}, {'date': {'year': 2022, 'month': 1, 'day': 17}, 'country': 'us'}, {'date': {'year': 2022, 'month': 2, 'day': 21}, 'country': 'us'}, {'date': {'year': 2022, 'month': 5, 'day': 30}, 'country': 'us'}, {'date': {'year': 2022, 'month': 6, 'day': 19}, 'country': 'us'}, {'date': {'year': 2022, 'month': 6, 'day': 20}, 'country': 'us'}, {'date': {'year': 2022, 'month': 7, 'day': 4}, 'country': 'us'}, {'date': {'year': 2022, 'month': 9, 'day': 5}, 'country': 'us'}, {'date': {'year': 2022, 'month': 10, 'day': 10}, 'country': 'us'}, {'date': {'year': 2022, 'month': 11, 'day': 11}, 'country': 'us'}, {'date': {'year': 2022, 'month': 11, 'day': 24}, 'country': 'us'}, {'date': {'year': 2022, 'month': 12, 'day': 25}, 'country': 'us'}, {'date': {'year': 2022, 'month': 12, 'day': 26}, 'country': 'us'}, {'date': {'year': 2023, 'month': 1, 'day': 1}, 'country': 'us'}, {'date': {'year': 2023, 'month': 1, 'day': 2}, 'country': 'us'}, {'date': {'year': 2023, 'month': 1, 'day': 16}, 'country': 'us'}, {'date': {'year': 2023, 'month': 2, 'day': 20}, 'country': 'us'}, {'date': {'year': 2023, 'month': 5, 'day': 29}, 'country': 'us'}, {'date': {'year': 2023, 'month': 6, 'day': 19}, 'country': 'us'}, {'date': {'year': 2023, 'month': 7, 'day': 4}, 'country': 'us'}, {'date': {'year': 2023, 'month': 9, 'day': 4}, 'country': 'us'}, {'date': {'year': 2023, 'month': 10, 'day': 9}, 'country': 'us'}, {'date': {'year': 2023, 'month': 11, 'day': 10}, 'country': 'us'}, {'date': {'year': 2023, 'month': 11, 'day': 11}, 'country': 'us'}, {'date': {'year': 2023, 'month': 11, 'day': 23}, 'country': 'us'}, {'date': {'year': 2023, 'month': 12, 'day': 25}, 'country': 'us'}, {'date': {'year': 2024, 'month': 1, 'day': 1}, 'country': 'us'}, {'date': {'year': 2024, 'month': 1, 'day': 15}, 'country': 'us'}, {'date': {'year': 2024, 'month': 2, 'day': 19}, 'country': 'us'}, {'date': {'year': 2024, 'month': 5, 'day': 27}, 'country': 'us'}, {'date': {'year': 2024, 'month': 6, 'day': 19}, 'country': 'us'}, {'date': {'year': 2024, 'month': 7, 'day': 4}, 'country': 'us'}, {'date': {'year': 2024, 'month': 9, 'day': 2}, 'country': 'us'}, {'date': {'year': 2024, 'month': 10, 'day': 14}, 'country': 'us'}, {'date': {'year': 2024, 'month': 11, 'day': 11}, 'country': 'us'}, {'date': {'year': 2024, 'month': 11, 'day': 28}, 'country': 'us'}, {'date': {'year': 2024, 'month': 12, 'day': 25}, 'country': 'us'}]}\n",
      "[[{'date': {'year': 2022, 'month': 1, 'day': 1}, 'country': 'hk'}, {'date': {'year': 2022, 'month': 2, 'day': 1}, 'country': 'hk'}, {'date': {'year': 2022, 'month': 2, 'day': 2}, 'country': 'hk'}, {'date': {'year': 2022, 'month': 2, 'day': 3}, 'country': 'hk'}, {'date': {'year': 2022, 'month': 4, 'day': 5}, 'country': 'hk'}, {'date': {'year': 2022, 'month': 4, 'day': 15}, 'country': 'hk'}, {'date': {'year': 2022, 'month': 4, 'day': 16}, 'country': 'hk'}, {'date': {'year': 2022, 'month': 4, 'day': 18}, 'country': 'hk'}, {'date': {'year': 2022, 'month': 5, 'day': 1}, 'country': 'hk'}, {'date': {'year': 2022, 'month': 5, 'day': 2}, 'country': 'hk'}, {'date': {'year': 2022, 'month': 5, 'day': 8}, 'country': 'hk'}, {'date': {'year': 2022, 'month': 5, 'day': 9}, 'country': 'hk'}, {'date': {'year': 2022, 'month': 6, 'day': 3}, 'country': 'hk'}, {'date': {'year': 2022, 'month': 7, 'day': 1}, 'country': 'hk'}, {'date': {'year': 2022, 'month': 9, 'day': 12}, 'country': 'hk'}, {'date': {'year': 2022, 'month': 10, 'day': 1}, 'country': 'hk'}, {'date': {'year': 2022, 'month': 10, 'day': 4}, 'country': 'hk'}, {'date': {'year': 2022, 'month': 12, 'day': 26}, 'country': 'hk'}, {'date': {'year': 2022, 'month': 12, 'day': 27}, 'country': 'hk'}, {'date': {'year': 2023, 'month': 1, 'day': 1}, 'country': 'hk'}, {'date': {'year': 2023, 'month': 1, 'day': 2}, 'country': 'hk'}, {'date': {'year': 2023, 'month': 1, 'day': 22}, 'country': 'hk'}, {'date': {'year': 2023, 'month': 1, 'day': 23}, 'country': 'hk'}, {'date': {'year': 2023, 'month': 1, 'day': 24}, 'country': 'hk'}, {'date': {'year': 2023, 'month': 1, 'day': 25}, 'country': 'hk'}, {'date': {'year': 2023, 'month': 4, 'day': 5}, 'country': 'hk'}, {'date': {'year': 2023, 'month': 4, 'day': 7}, 'country': 'hk'}, {'date': {'year': 2023, 'month': 4, 'day': 8}, 'country': 'hk'}, {'date': {'year': 2023, 'month': 4, 'day': 10}, 'country': 'hk'}, {'date': {'year': 2023, 'month': 5, 'day': 1}, 'country': 'hk'}, {'date': {'year': 2023, 'month': 5, 'day': 26}, 'country': 'hk'}, {'date': {'year': 2023, 'month': 6, 'day': 22}, 'country': 'hk'}, {'date': {'year': 2023, 'month': 7, 'day': 1}, 'country': 'hk'}, {'date': {'year': 2023, 'month': 9, 'day': 30}, 'country': 'hk'}, {'date': {'year': 2023, 'month': 10, 'day': 1}, 'country': 'hk'}, {'date': {'year': 2023, 'month': 10, 'day': 2}, 'country': 'hk'}, {'date': {'year': 2023, 'month': 10, 'day': 23}, 'country': 'hk'}, {'date': {'year': 2023, 'month': 12, 'day': 25}, 'country': 'hk'}, {'date': {'year': 2023, 'month': 12, 'day': 26}, 'country': 'hk'}, {'date': {'year': 2024, 'month': 1, 'day': 1}, 'country': 'hk'}, {'date': {'year': 2024, 'month': 2, 'day': 10}, 'country': 'hk'}, {'date': {'year': 2024, 'month': 2, 'day': 12}, 'country': 'hk'}, {'date': {'year': 2024, 'month': 2, 'day': 13}, 'country': 'hk'}, {'date': {'year': 2024, 'month': 3, 'day': 29}, 'country': 'hk'}, {'date': {'year': 2024, 'month': 3, 'day': 30}, 'country': 'hk'}, {'date': {'year': 2024, 'month': 4, 'day': 1}, 'country': 'hk'}, {'date': {'year': 2024, 'month': 4, 'day': 4}, 'country': 'hk'}, {'date': {'year': 2024, 'month': 5, 'day': 1}, 'country': 'hk'}, {'date': {'year': 2024, 'month': 5, 'day': 15}, 'country': 'hk'}, {'date': {'year': 2024, 'month': 6, 'day': 10}, 'country': 'hk'}, {'date': {'year': 2024, 'month': 7, 'day': 1}, 'country': 'hk'}, {'date': {'year': 2024, 'month': 9, 'day': 18}, 'country': 'hk'}, {'date': {'year': 2024, 'month': 10, 'day': 1}, 'country': 'hk'}, {'date': {'year': 2024, 'month': 10, 'day': 11}, 'country': 'hk'}, {'date': {'year': 2024, 'month': 12, 'day': 25}, 'country': 'hk'}, {'date': {'year': 2024, 'month': 12, 'day': 26}, 'country': 'hk'}], [{'date': {'year': 2022, 'month': 1, 'day': 1}, 'country': 'us'}, {'date': {'year': 2022, 'month': 1, 'day': 17}, 'country': 'us'}, {'date': {'year': 2022, 'month': 2, 'day': 21}, 'country': 'us'}, {'date': {'year': 2022, 'month': 5, 'day': 30}, 'country': 'us'}, {'date': {'year': 2022, 'month': 6, 'day': 19}, 'country': 'us'}, {'date': {'year': 2022, 'month': 6, 'day': 20}, 'country': 'us'}, {'date': {'year': 2022, 'month': 7, 'day': 4}, 'country': 'us'}, {'date': {'year': 2022, 'month': 9, 'day': 5}, 'country': 'us'}, {'date': {'year': 2022, 'month': 10, 'day': 10}, 'country': 'us'}, {'date': {'year': 2022, 'month': 11, 'day': 11}, 'country': 'us'}, {'date': {'year': 2022, 'month': 11, 'day': 24}, 'country': 'us'}, {'date': {'year': 2022, 'month': 12, 'day': 25}, 'country': 'us'}, {'date': {'year': 2022, 'month': 12, 'day': 26}, 'country': 'us'}, {'date': {'year': 2023, 'month': 1, 'day': 1}, 'country': 'us'}, {'date': {'year': 2023, 'month': 1, 'day': 2}, 'country': 'us'}, {'date': {'year': 2023, 'month': 1, 'day': 16}, 'country': 'us'}, {'date': {'year': 2023, 'month': 2, 'day': 20}, 'country': 'us'}, {'date': {'year': 2023, 'month': 5, 'day': 29}, 'country': 'us'}, {'date': {'year': 2023, 'month': 6, 'day': 19}, 'country': 'us'}, {'date': {'year': 2023, 'month': 7, 'day': 4}, 'country': 'us'}, {'date': {'year': 2023, 'month': 9, 'day': 4}, 'country': 'us'}, {'date': {'year': 2023, 'month': 10, 'day': 9}, 'country': 'us'}, {'date': {'year': 2023, 'month': 11, 'day': 10}, 'country': 'us'}, {'date': {'year': 2023, 'month': 11, 'day': 11}, 'country': 'us'}, {'date': {'year': 2023, 'month': 11, 'day': 23}, 'country': 'us'}, {'date': {'year': 2023, 'month': 12, 'day': 25}, 'country': 'us'}, {'date': {'year': 2024, 'month': 1, 'day': 1}, 'country': 'us'}, {'date': {'year': 2024, 'month': 1, 'day': 15}, 'country': 'us'}, {'date': {'year': 2024, 'month': 2, 'day': 19}, 'country': 'us'}, {'date': {'year': 2024, 'month': 5, 'day': 27}, 'country': 'us'}, {'date': {'year': 2024, 'month': 6, 'day': 19}, 'country': 'us'}, {'date': {'year': 2024, 'month': 7, 'day': 4}, 'country': 'us'}, {'date': {'year': 2024, 'month': 9, 'day': 2}, 'country': 'us'}, {'date': {'year': 2024, 'month': 10, 'day': 14}, 'country': 'us'}, {'date': {'year': 2024, 'month': 11, 'day': 11}, 'country': 'us'}, {'date': {'year': 2024, 'month': 11, 'day': 28}, 'country': 'us'}, {'date': {'year': 2024, 'month': 12, 'day': 25}, 'country': 'us'}]]\n",
      "True\n",
      "2023-12-18 00:00:00\n"
     ]
    }
   ],
   "source": [
    "test_date = datetime(2023, 12, 25)\n",
    "date = find_valid_cut_off_date(\n",
    "    cut_off_date=test_date,\n",
    "    days_before=5,\n",
    "    fund_origin_country='HK',\n",
    "    countries_involved=['US']\n",
    ")\n",
    "print(date)"
   ]
  }
 ],
 "metadata": {
  "kernelspec": {
   "display_name": "Python 3 (ipykernel)",
   "language": "python",
   "name": "python3"
  },
  "language_info": {
   "codemirror_mode": {
    "name": "ipython",
    "version": 3
   },
   "file_extension": ".py",
   "mimetype": "text/x-python",
   "name": "python",
   "nbconvert_exporter": "python",
   "pygments_lexer": "ipython3",
   "version": "3.11.3"
  }
 },
 "nbformat": 4,
 "nbformat_minor": 5
}
