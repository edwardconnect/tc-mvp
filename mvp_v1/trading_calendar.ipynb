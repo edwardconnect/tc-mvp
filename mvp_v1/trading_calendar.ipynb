{
 "cells": [
  {
   "cell_type": "code",
   "execution_count": 172,
   "id": "f9bdfb9a",
   "metadata": {},
   "outputs": [],
   "source": [
    "from workalendar.europe import *\n",
    "import requests\n",
    "from datetime import datetime, timedelta\n",
    "import json\n",
    "import itertools\n",
    "from typing import List\n",
    "from typing_extensions import TypedDict, TypeAlias"
   ]
  },
  {
   "cell_type": "code",
   "execution_count": 164,
   "id": "afd620f6",
   "metadata": {},
   "outputs": [],
   "source": [
    "calendarific_api_key = \"2a7fb01b189f3d6735a2ab8d797b7a12dcba03d9\"\n",
    "\n",
    "def get_public_holidays_by_country(country_code):\n",
    "    current_year = datetime.now().year\n",
    "    current_year_str = [current_year - 1, current_year, current_year + 1]\n",
    "    public_holidays = []\n",
    "\n",
    "    try:\n",
    "        for year in current_year_str:\n",
    "            url = f\"https://calendarific.com/api/v2/holidays?&api_key={calendarific_api_key}&country={country_code}&year={year}&type=national\"\n",
    "            res = requests.get(url)\n",
    "            if (res.status_code == 200):\n",
    "                public_holidays += [{'date': holiday['date']['datetime'], 'country': holiday['country']['id']} for holiday in res.json()['response']['holidays']]\n",
    "            else:\n",
    "                raise Exception(res.reason)\n",
    "    except Exception as error:\n",
    "        print(error)\n",
    "\n",
    "    return public_holidays"
   ]
  },
  {
   "cell_type": "code",
   "execution_count": 173,
   "id": "c4b3929b",
   "metadata": {},
   "outputs": [],
   "source": [
    "class DateDict(TypedDict, total=True):\n",
    "  year: int\n",
    "  month: int\n",
    "  day: int\n",
    "\n",
    "class ApiObject(TypedDict):\n",
    "  date: DateDict\n",
    "  country: str\n",
    "\n",
    "ApiObjectCollection: TypeAlias = List[ApiObject]"
   ]
  },
  {
   "cell_type": "code",
   "execution_count": 174,
   "id": "87df96b9",
   "metadata": {},
   "outputs": [],
   "source": [
    "def is_business_day(date: datetime, holidays: ApiObjectCollection) -> bool: \n",
    "    if date.weekday() >= 5:\n",
    "        return False\n",
    "    for holiday in holidays:\n",
    "        if date.date() == datetime(**holiday['date']).date():\n",
    "            return False\n",
    "    return True\n",
    "\n",
    "def find_business_date(date: datetime, public_holidays: ApiObjectCollection, days_before: int) -> datetime:\n",
    "    count = 0\n",
    "    while count < days_before:\n",
    "        date -= timedelta(days=1)\n",
    "        if is_business_day(date, public_holidays):\n",
    "            count += 1\n",
    "\n",
    "    return date\n",
    "\n",
    "def find_common_business_date(event_cut_off_date: datetime, global_holidays: ApiObjectCollection):\n",
    "    while True:\n",
    "        if (is_business_day(event_cut_off_date, global_holidays)):\n",
    "            return event_cut_off_date\n",
    "        event_cut_off_date -= timedelta(days=1)\n",
    "\n",
    "def find_valid_cut_off_date(cut_off_date: datetime, days_before: int, fund_origin_country: str, countries_involved: List[str] ):\n",
    "    country_holidays_map = {}\n",
    "    all_countries = [fund_origin_country] + countries_involved\n",
    "\n",
    "    for country_code in all_countries:\n",
    "        country_holidays_map[country_code] = get_public_holidays_by_country(country_code)\n",
    "\n",
    "    countries_involved_holidays = list(itertools.chain(*[country_holidays_map[it] for it in all_countries]))\n",
    "\n",
    "    fund_cut_off_date = find_business_date(cut_off_date, country_holidays_map[fund_origin_country], days_before)\n",
    "    fund_common_cut_off_date = find_common_business_date(fund_cut_off_date, countries_involved_holidays)\n",
    "    return fund_common_cut_off_date"
   ]
  },
  {
   "cell_type": "code",
   "execution_count": 178,
   "id": "bfb4acc2",
   "metadata": {},
   "outputs": [
    {
     "name": "stdout",
     "output_type": "stream",
     "text": [
      "2023-11-09 00:00:00\n"
     ]
    }
   ],
   "source": [
    "test_date = datetime(2023, 11, 13)\n",
    "date = find_valid_cut_off_date(\n",
    "    cut_off_date=test_date,\n",
    "    days_before=1,\n",
    "    fund_origin_country='HK',\n",
    "    countries_involved=['US']\n",
    ")\n",
    "print(date)"
   ]
  }
 ],
 "metadata": {
  "kernelspec": {
   "display_name": "Python 3 (ipykernel)",
   "language": "python",
   "name": "python3"
  },
  "language_info": {
   "codemirror_mode": {
    "name": "ipython",
    "version": 3
   },
   "file_extension": ".py",
   "mimetype": "text/x-python",
   "name": "python",
   "nbconvert_exporter": "python",
   "pygments_lexer": "ipython3",
   "version": "3.11.3"
  }
 },
 "nbformat": 4,
 "nbformat_minor": 5
}
